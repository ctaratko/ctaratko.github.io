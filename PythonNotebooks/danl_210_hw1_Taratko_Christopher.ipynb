{
  "nbformat": 4,
  "nbformat_minor": 0,
  "metadata": {
    "colab": {
      "provenance": []
    },
    "kernelspec": {
      "name": "python3",
      "display_name": "Python 3"
    },
    "language_info": {
      "name": "python"
    }
  },
  "cells": [
    {
      "cell_type": "markdown",
      "source": [
        "Question 0:"
      ],
      "metadata": {
        "id": "VzgMx7JMmcKX"
      }
    },
    {
      "cell_type": "code",
      "execution_count": null,
      "metadata": {
        "id": "l9vdcGtVd_e7"
      },
      "outputs": [],
      "source": [
        "# Providing Github Username:\n",
        "# Username: ctaratko"
      ]
    },
    {
      "cell_type": "markdown",
      "source": [
        "# Question 1:\n",
        "Q1(a).\n",
        "- Create a list of integers from 1 to 10\n",
        "- Append the number 11 to the list and remove the number 5"
      ],
      "metadata": {
        "id": "kXBTKc7FmkdF"
      }
    },
    {
      "cell_type": "code",
      "source": [
        "MyList = [1,2,3,4,5,6,7,8,9,10]\n",
        "MyList.append(11)\n",
        "MyList.remove(5)\n",
        "MyList"
      ],
      "metadata": {
        "colab": {
          "base_uri": "https://localhost:8080/"
        },
        "id": "h7KV7_OumvTn",
        "outputId": "9712fb4a-401a-4b0e-8bc3-9506a62230f6"
      },
      "execution_count": null,
      "outputs": [
        {
          "output_type": "execute_result",
          "data": {
            "text/plain": [
              "[1, 2, 3, 4, 6, 7, 8, 9, 10, 11]"
            ]
          },
          "metadata": {},
          "execution_count": 2
        }
      ]
    },
    {
      "cell_type": "markdown",
      "source": [
        "Q1(b).\n",
        "- Consider the following Dictionary of three employees and their salaries:"
      ],
      "metadata": {
        "id": "aWBGW0SLm8pR"
      }
    },
    {
      "cell_type": "code",
      "source": [
        "dict_salaries = {'Alice': 50000, 'Bob': 60000, 'Charlie': 70000}"
      ],
      "metadata": {
        "id": "NAHO_aq1nPDI"
      },
      "execution_count": null,
      "outputs": []
    },
    {
      "cell_type": "markdown",
      "source": [
        "- Add a new employee `'Dana'` with a salary of `65000`\n",
        "- Update `'Alice'`'s Salary to 55000\n",
        "- Print all employee names and their salaries"
      ],
      "metadata": {
        "id": "LXio3b4inSX5"
      }
    },
    {
      "cell_type": "code",
      "source": [
        "dict_salaries.update({'Dana': 65000})\n",
        "dict_salaries.update({'Alice': 55000})\n",
        "print(dict_salaries) # can just write the object name"
      ],
      "metadata": {
        "colab": {
          "base_uri": "https://localhost:8080/"
        },
        "id": "ZPS8m_JTn3W0",
        "outputId": "9980a248-038b-408f-ef09-0db0e3f7449c"
      },
      "execution_count": null,
      "outputs": [
        {
          "output_type": "execute_result",
          "data": {
            "text/plain": [
              "{'Alice': 55000, 'Bob': 60000, 'Charlie': 70000, 'Dana': 65000}"
            ]
          },
          "metadata": {},
          "execution_count": 4
        }
      ]
    },
    {
      "cell_type": "code",
      "source": [
        "from google.colab import drive\n",
        "drive.mount('/content/drive')"
      ],
      "metadata": {
        "id": "oNc9U6huocgw"
      },
      "execution_count": null,
      "outputs": []
    },
    {
      "cell_type": "markdown",
      "source": [
        "# Question 2\n",
        "Q2(a).\n",
        "- Assign a variable `Salary` to `75000`\n",
        "- use an if-elif-else statement to print\n",
        "  - `Low` if Salary is less than `50,000`\n",
        "  - `Medium` if salary is betwen `50,000` and `99,999`\n",
        "  - `High` if salary is `100,000` or more"
      ],
      "metadata": {
        "id": "meufbH1XpVyU"
      }
    },
    {
      "cell_type": "code",
      "source": [
        "salary = 75000\n",
        "if salary < 50000:\n",
        "  print(\"Low\")\n",
        "elif 50000 < salary < 99999:\n",
        "  print(\"Medium\")\n",
        "else:\n",
        "  print(\"High\")"
      ],
      "metadata": {
        "colab": {
          "base_uri": "https://localhost:8080/"
        },
        "id": "hruRB8Jkpo6y",
        "outputId": "e4a46fc7-8e98-4c0d-ff2c-7c1a5c99aee2"
      },
      "execution_count": null,
      "outputs": [
        {
          "output_type": "stream",
          "name": "stdout",
          "text": [
            "Medium\n"
          ]
        }
      ]
    },
    {
      "cell_type": "markdown",
      "source": [
        "Q2(b).\n",
        "- Assign two variables, `role` and `salary` to `\"Manager\"` and `85000`, respectively.\n",
        "- use nested if-else statements to print\n",
        "  - `'Eligible for bonus'` if the `role` `\"Manager\"` is greater"
      ],
      "metadata": {
        "id": "HVmrFJw3qOZP"
      }
    },
    {
      "cell_type": "code",
      "source": [
        "Role = 'Manager'\n",
        "Salary = 85000\n",
        "if Role == 'Manager' and Salary > 80000:\n",
        "  print('Eligible for bonus')\n",
        "elif Role == 'Analyst' and Salary < 60000:\n",
        "  print('Eligible for raise')\n",
        "else:\n",
        "  print(\"No action needed\")"
      ],
      "metadata": {
        "colab": {
          "base_uri": "https://localhost:8080/"
        },
        "id": "wS4L7dIfWPkI",
        "outputId": "fe575ffe-5d05-4966-89a2-854995fa83fa"
      },
      "execution_count": null,
      "outputs": [
        {
          "output_type": "stream",
          "name": "stdout",
          "text": [
            "Eligible for bonus\n"
          ]
        }
      ]
    },
    {
      "cell_type": "markdown",
      "source": [
        "# Question 3\n",
        "Q3(a).\n",
        "- Consider the following Salaries:"
      ],
      "metadata": {
        "id": "q4HY42c4W4ci"
      }
    },
    {
      "cell_type": "code",
      "source": [
        "list_salaries = [45000, 60000, 75000, 120000, 30000]"
      ],
      "metadata": {
        "id": "4a1E3Re9W_Lz"
      },
      "execution_count": null,
      "outputs": []
    },
    {
      "cell_type": "markdown",
      "source": [
        "- Calculate the average salary\n",
        "- Use a `for` loop to print whether each salary is `'above average'` or `'below average'`."
      ],
      "metadata": {
        "id": "TvXdo3kxW_2P"
      }
    },
    {
      "cell_type": "code",
      "source": [
        "AverageSalary = sum(list_salaries) / len(list_salaries)\n",
        "for GivenSalary in list_salaries:\n",
        "  if GivenSalary > AverageSalary:\n",
        "    print(GivenSalary,' is Above Average')\n",
        "  elif GivenSalary < AverageSalary:\n",
        "    print(\"Below Average\")"
      ],
      "metadata": {
        "colab": {
          "base_uri": "https://localhost:8080/"
        },
        "id": "9DOoYWkXY4fk",
        "outputId": "3a981cac-1a5b-49ce-a9a7-7901cda9e31e"
      },
      "execution_count": null,
      "outputs": [
        {
          "output_type": "stream",
          "name": "stdout",
          "text": [
            "Below Average\n",
            "Below Average\n",
            "Above Average\n",
            "Above Average\n",
            "Below Average\n"
          ]
        }
      ]
    },
    {
      "cell_type": "markdown",
      "source": [
        "Q3(b).\n",
        "- Start with a `salary` of `50000`.\n",
        "- Use a `while` loop to increase the salary by `5000` each year until it exceeds `80000`\n",
        "- Print the salary after each increment."
      ],
      "metadata": {
        "id": "8VyDdxuKVafG"
      }
    },
    {
      "cell_type": "code",
      "source": [
        "salary = 50000\n",
        "while salary <= 80000:\n",
        "  salary += 5000 # Can use: salary = salary + 5000\n",
        "\n",
        "print(salary)"
      ],
      "metadata": {
        "colab": {
          "base_uri": "https://localhost:8080/"
        },
        "id": "mBCOsu1vVZnE",
        "outputId": "6a76d580-df81-4142-de1c-1405d081878a"
      },
      "execution_count": null,
      "outputs": [
        {
          "output_type": "stream",
          "name": "stdout",
          "text": [
            "85000\n"
          ]
        }
      ]
    },
    {
      "cell_type": "markdown",
      "source": [
        "Q3(c).\n",
        "- Consider the following dictionary of employee salaries:"
      ],
      "metadata": {
        "id": "5dW-EynCWQbK"
      }
    },
    {
      "cell_type": "code",
      "source": [
        "salaries = {'Alice': 50000, 'Bob': 60000, 'Charlie': 70000, 'Dana': 45000}"
      ],
      "metadata": {
        "id": "DgcTTQyCWVDR"
      },
      "execution_count": null,
      "outputs": []
    },
    {
      "cell_type": "markdown",
      "source": [
        "- Use a `for` loop to print the names of employees who earn more than `55000`."
      ],
      "metadata": {
        "id": "tjx6rHVpWWdW"
      }
    },
    {
      "cell_type": "code",
      "source": [
        "for name, salary in salaries.items(): #identifies both parts of the dictionary\n",
        "  if salary > 55000:\n",
        "    print(name)"
      ],
      "metadata": {
        "colab": {
          "base_uri": "https://localhost:8080/"
        },
        "id": "4IB-YWGrWclT",
        "outputId": "819cecc7-927d-4935-9779-7b4534254191"
      },
      "execution_count": null,
      "outputs": [
        {
          "output_type": "stream",
          "name": "stdout",
          "text": [
            "Bob\n",
            "Charlie\n"
          ]
        }
      ]
    },
    {
      "cell_type": "markdown",
      "source": [
        "Q3(d)."
      ],
      "metadata": {
        "id": "xtyZXlCXXuv3"
      }
    },
    {
      "cell_type": "code",
      "source": [
        "data_list = [42, 3.14, 'Data Analytics', True, None, [1, 2, 3], {'key': 'value'}, (4, 5)]"
      ],
      "metadata": {
        "id": "C9I_b1JKXzsx"
      },
      "execution_count": null,
      "outputs": []
    },
    {
      "cell_type": "markdown",
      "source": [
        "- Given the list above, print the data type of each element using the `type()` function in a `for` loop. In the loop:\n",
        "  - Convert the integer `42` to a string.\n",
        "  - Convert the float `3.14` to a string, then back to a float.\n",
        "  - Convert the boolean `True` to an integer"
      ],
      "metadata": {
        "id": "iEr0YuBkX1HK"
      }
    },
    {
      "cell_type": "code",
      "source": [
        "for i in range(len(data_list)):\n",
        "    if type(data_list[i]) == int:\n",
        "        data_list[i] = str(data_list[i])\n",
        "    elif type(data_list[i]) == float:\n",
        "        data_list[i] = str(data_list[i])\n",
        "        data_list[i] = float(data_list[i])\n",
        "    elif type(data_list[i]) == bool:\n",
        "        data_list[i] = int(data_list[i])\n",
        "    print(type(data_list[i]))\n",
        "data_list\n",
        "# I finally figured it out, it was just like the for loop in R studio, I just tried oversimplifying it initially"
      ],
      "metadata": {
        "colab": {
          "base_uri": "https://localhost:8080/"
        },
        "id": "4b9oi9-IYOyI",
        "outputId": "59347d7c-54f9-455a-9301-a1496543944f"
      },
      "execution_count": null,
      "outputs": [
        {
          "output_type": "stream",
          "name": "stdout",
          "text": [
            "<class 'str'>\n",
            "<class 'float'>\n",
            "<class 'str'>\n",
            "<class 'str'>\n",
            "<class 'NoneType'>\n",
            "<class 'list'>\n",
            "<class 'dict'>\n",
            "<class 'tuple'>\n"
          ]
        },
        {
          "output_type": "execute_result",
          "data": {
            "text/plain": [
              "['42', 3.14, 'Data Analytics', '1', None, [1, 2, 3], {'key': 'value'}, (4, 5)]"
            ]
          },
          "metadata": {},
          "execution_count": 7
        }
      ]
    },
    {
      "cell_type": "markdown",
      "source": [
        "# Question 4\n",
        "Q4(a).\n",
        "Consider the variables `a` and `b`:"
      ],
      "metadata": {
        "id": "PA4SMJ75XqY_"
      }
    },
    {
      "cell_type": "code",
      "source": [
        "a = 10\n",
        "b = 0"
      ],
      "metadata": {
        "id": "R_peFFuYtNlT"
      },
      "execution_count": null,
      "outputs": []
    },
    {
      "cell_type": "markdown",
      "source": [
        "- Use a `try`-`accept` block to print the result of `a / b`.\n",
        "  - If there is an error, print `'Cannot divide by zero!'`."
      ],
      "metadata": {
        "id": "5SomssiXX4Ot"
      }
    },
    {
      "cell_type": "code",
      "source": [
        "try:\n",
        "  Solution = a / b\n",
        "  print(Solution)\n",
        "except:\n",
        "  print('Cannot divide by zero!')"
      ],
      "metadata": {
        "colab": {
          "base_uri": "https://localhost:8080/"
        },
        "id": "DVqSlEtxYLdH",
        "outputId": "4a9167a3-72e7-472c-f63a-a85d43365339"
      },
      "execution_count": null,
      "outputs": [
        {
          "output_type": "stream",
          "name": "stdout",
          "text": [
            "Cannot divide by zero!\n"
          ]
        }
      ]
    },
    {
      "cell_type": "markdown",
      "source": [
        "Q4(b).\n",
        "- Consider the following dictionary of salaries with some missing (`None`) values:\n"
      ],
      "metadata": {
        "id": "5RSQR172YYMQ"
      }
    },
    {
      "cell_type": "code",
      "source": [
        "salaries = {'Alice': 50000, 'Bob': None, 'Charlie': 70000, 'Dana': None, 'Eve': 80000}"
      ],
      "metadata": {
        "id": "qOzGrJ-SYham"
      },
      "execution_count": null,
      "outputs": []
    },
    {
      "cell_type": "markdown",
      "source": [
        "- Use a `for` loop with a `try`-`except` block to calculate the total of non-missing salaries."
      ],
      "metadata": {
        "id": "UMrIR_suYihc"
      }
    },
    {
      "cell_type": "code",
      "source": [
        "SalarySum = [0]\n",
        "for name, salary in salaries.items():\n",
        "  if salary != None:\n",
        "    SalarySum.append(salary)\n",
        "print(\"The total of the Salaries:\",sum(SalarySum))\n",
        "# I don't entirely understand the try-except function nor when/how to implement"
      ],
      "metadata": {
        "colab": {
          "base_uri": "https://localhost:8080/"
        },
        "id": "ALvxRB4pYrk2",
        "outputId": "39a8ce09-a01e-43f7-ddd1-0d69eccd27c5"
      },
      "execution_count": null,
      "outputs": [
        {
          "output_type": "stream",
          "name": "stdout",
          "text": [
            "The total of the Salaries: 200000\n"
          ]
        }
      ]
    },
    {
      "cell_type": "markdown",
      "source": [
        "# Question 5\n",
        "- Import the `math` library and calculate the square root of `81` using the `sqrt()` function provided by the `math` library"
      ],
      "metadata": {
        "id": "hCz3Vl4oztZS"
      }
    },
    {
      "cell_type": "code",
      "source": [
        "import math # idk if this is a necessary line, but it won't let me unimport so I can't really check\n",
        "from math import sqrt\n",
        "sqrt(81)"
      ],
      "metadata": {
        "colab": {
          "base_uri": "https://localhost:8080/"
        },
        "id": "1FWORPOyz_Du",
        "outputId": "ad871110-80be-4c6a-f0a9-34395dcb2eb3"
      },
      "execution_count": null,
      "outputs": [
        {
          "output_type": "execute_result",
          "data": {
            "text/plain": [
              "9.0"
            ]
          },
          "metadata": {},
          "execution_count": 18
        }
      ]
    }
  ]
}